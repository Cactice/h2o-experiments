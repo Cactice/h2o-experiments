{
  "nbformat": 4,
  "nbformat_minor": 0,
  "metadata": {
    "colab": {
      "name": "h2o-quickStart.ipynb",
      "version": "0.3.2",
      "provenance": [],
      "include_colab_link": true
    },
    "kernelspec": {
      "name": "python3",
      "display_name": "Python 3"
    }
  },
  "cells": [
    {
      "cell_type": "markdown",
      "metadata": {
        "id": "view-in-github",
        "colab_type": "text"
      },
      "source": [
        "[![Open In Colab](https://colab.research.google.com/assets/colab-badge.svg)](https://colab.research.google.com/github/Cactice/h2o-experiments/blob/master/h2o_quickStart.ipynb)"
      ]
    },
    {
      "metadata": {
        "id": "PrB5DrNKneQ-",
        "colab_type": "code",
        "colab": {}
      },
      "cell_type": "code",
      "source": [
        "!apt-get install openjdk-8-jdk"
      ],
      "execution_count": 0,
      "outputs": []
    },
    {
      "metadata": {
        "id": "dgiNXzh7oND8",
        "colab_type": "text"
      },
      "cell_type": "markdown",
      "source": [
        "Install JDK\n",
        "\n",
        "Exclamation Mark is necessary for indicating that it is a bash command"
      ]
    },
    {
      "metadata": {
        "id": "_e4UNxtpntoI",
        "colab_type": "code",
        "colab": {}
      },
      "cell_type": "code",
      "source": [
        "!java -version"
      ],
      "execution_count": 0,
      "outputs": []
    },
    {
      "metadata": {
        "id": "IqMUFwsUooTL",
        "colab_type": "text"
      },
      "cell_type": "markdown",
      "source": [
        "This command displays Java version.\n",
        "\n",
        "Make sure it displays openjdk version 1.8.*\n",
        "\n",
        "If it displays otherwise, (such as openjdk version 10.*) H2O might display an error like this:\n",
        "\n",
        "<i>H2OServerError: Server process terminated with error code 1</i>\n",
        "\n",
        "To fix the issue, try this command to change Java version.\n",
        "\n",
        "```!update-alternatives --config java```\n"
      ]
    },
    {
      "metadata": {
        "id": "DFLxYJW5nh02",
        "colab_type": "code",
        "colab": {}
      },
      "cell_type": "code",
      "source": [
        "!pip install H2O"
      ],
      "execution_count": 0,
      "outputs": []
    },
    {
      "metadata": {
        "id": "HkNmp7Dep2m8",
        "colab_type": "text"
      },
      "cell_type": "markdown",
      "source": [
        "Install H2O with pip"
      ]
    },
    {
      "metadata": {
        "id": "XPHzLkRUn7Yj",
        "colab_type": "code",
        "colab": {}
      },
      "cell_type": "code",
      "source": [
        "import h2o\n",
        "h2o.init()"
      ],
      "execution_count": 0,
      "outputs": []
    },
    {
      "metadata": {
        "id": "u0xCQJ8JrkWU",
        "colab_type": "text"
      },
      "cell_type": "markdown",
      "source": [
        "If you are successful you will get an output like: \n",
        "\n",
        "`checking whether there is an H2O instance running at ...`"
      ]
    },
    {
      "metadata": {
        "id": "aMbtYXC1rj5s",
        "colab_type": "code",
        "colab": {}
      },
      "cell_type": "code",
      "source": [
        ""
      ],
      "execution_count": 0,
      "outputs": []
    }
  ]
}